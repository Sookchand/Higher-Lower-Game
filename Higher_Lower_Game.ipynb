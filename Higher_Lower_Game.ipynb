{
  "nbformat": 4,
  "nbformat_minor": 0,
  "metadata": {
    "colab": {
      "provenance": []
    },
    "kernelspec": {
      "name": "python3",
      "display_name": "Python 3"
    },
    "language_info": {
      "name": "python"
    }
  },
  "cells": [
    {
      "cell_type": "code",
      "source": [
        "from google.colab import drive\n",
        "drive.mount('/content/drive')\n",
        "import sys\n",
        "sys.path.append('/content/drive/MyDrive')"
      ],
      "metadata": {
        "colab": {
          "base_uri": "https://localhost:8080/"
        },
        "id": "HXBVInwFi6QS",
        "outputId": "45814330-c2f9-4de1-c6dc-e7ec30810aa3"
      },
      "execution_count": 1,
      "outputs": [
        {
          "output_type": "stream",
          "name": "stdout",
          "text": [
            "Mounted at /content/drive\n"
          ]
        }
      ]
    },
    {
      "cell_type": "code",
      "source": [
        "from game_data import data\n",
        "from random import choice\n",
        "from guess import logo, vs\n"
      ],
      "metadata": {
        "id": "5X6O9GPGvBd0"
      },
      "execution_count": 2,
      "outputs": []
    },
    {
      "cell_type": "code",
      "source": [
        "score = 0 # declares a global score outside the function.\n",
        "\n",
        "def get_new_celebrity():\n",
        "    \"\"\"This takes a randomly selected celebrity from data.\"\"\"\n",
        "    return choice(data)\n",
        "\n",
        "def format_celebrity(celebrity):\n",
        "    \"\"\"This fromats the celebrity infomration for display.\"\"\"\n",
        "    return f\"{celebrity['name']}, a {celebrity['description']} from {celebrity['country']}.\"\n",
        "\n",
        "def check_answer(guess, a, b):\n",
        "    global score # References a global variable\n",
        "    if (guess == 'A' and a[\"follower_count\"] > b[\"follower_count\"]) or (guess == 'B' and b[\"follower_count\"] > a[\"follower_count\"]):\n",
        "        print(f\"You're right! Current score: {score}.\")\n",
        "        score += 1 # Increment score\n",
        "        return True # continues game\n",
        "    else:\n",
        "        print(f\"You're wrong! Current score: {score}.\")\n",
        "        return False # ends game\n",
        "\n",
        "# Inital Set-up\n",
        "print(logo)\n",
        "\n",
        "celebrity_a = get_new_celebrity()\n",
        "celebrity_b = get_new_celebrity()\n",
        "if celebrity_a == celebrity_b:\n",
        "    celebrity_b = get_new_celebrity()\n",
        "\n",
        "while True:\n",
        "    print(f'Compare A: {format_celebrity(celebrity_a)}')\n",
        "    print(vs)\n",
        "    print(f'Compare B: {format_celebrity(celebrity_b)}')\n",
        "\n",
        "    user_guess = input(\"Who has more followers. Type 'A' or 'B': \").upper()\n",
        "\n",
        "    if not check_answer(user_guess, celebrity_a, celebrity_b):\n",
        "        break # # Exit the loop if check_answer returned False\n",
        "\n",
        "    # Set the current celebrity B to A, and get a new celebrity for B\n",
        "    celebrity_a = celebrity_b\n",
        "    celebrity_b = get_new_celebrity()\n",
        "\n",
        "\n",
        "\n",
        "\n",
        "\n",
        "\n",
        "\n"
      ],
      "metadata": {
        "colab": {
          "base_uri": "https://localhost:8080/"
        },
        "id": "2UoOFIaLw6F8",
        "outputId": "569ad3b3-577f-4139-8e29-c3fe1ce219ba"
      },
      "execution_count": 11,
      "outputs": [
        {
          "output_type": "stream",
          "name": "stdout",
          "text": [
            "\n",
            "    __  ___       __             \n",
            "   / / / (_)___ _/ /_  ___  _____\n",
            "  / /_/ / / __ `/ __ \\/ _ \\/ ___/\n",
            " / __  / / /_/ / / / /  __/ /    \n",
            "/_/ ///_/\\__, /_/ /_/\\___/_/     \n",
            "   / /  /____/_      _____  _____\n",
            "  / /   / __ \\ | /| / / _ \\/ ___/\n",
            " / /___/ /_/ / |/ |/ /  __/ /    \n",
            "/_____/\\____/|__/|__/\\___/_/     \n",
            "\n",
            "Compare A: Nicki Minaj, a Musician from Trinidad and Tobago.\n",
            "\n",
            " _    __    \n",
            "| |  / /____\n",
            "| | / / ___/\n",
            "| |/ (__  ) \n",
            "|___/____(_)\n",
            "\n",
            "Compare B: Demi Lovato, a Musician and actress from United States.\n",
            "Who has more followers. Type 'A' or 'B': a\n",
            "You're right! Current score: 0.\n",
            "Compare A: Demi Lovato, a Musician and actress from United States.\n",
            "\n",
            " _    __    \n",
            "| |  / /____\n",
            "| | / / ___/\n",
            "| |/ (__  ) \n",
            "|___/____(_)\n",
            "\n",
            "Compare B: FC Barcelona, a Football club from Spain.\n",
            "Who has more followers. Type 'A' or 'B': a\n",
            "You're wrong! Current score: 1.\n"
          ]
        }
      ]
    },
    {
      "cell_type": "code",
      "source": [
        "from random import choice\n",
        "\n",
        "score = 0\n",
        "\n",
        "def get_new_celebrity():\n",
        "    return choice(data)\n",
        "\n",
        "def format_celebrity(celebrity):\n",
        "    return f\"{celebrity['name']}, a {celebrity['description']} from {celebrity['country']}.\"\n",
        "def check_answer(guess, a, b):\n",
        "    global score\n",
        "    if (guess == 'A' and a['follower_count'] > b['follower_count']) or (guess == 'B' and b['follower_count'] > a['follower_count']):\n",
        "        print(f\"You are correct, you score is: {score}.\")\n",
        "        score += 1\n",
        "        return True\n",
        "    else:\n",
        "        print(f\"You are wrong. Your score is: {score}\")\n",
        "        return False\n",
        "\n",
        "print(logo)\n",
        "celebrity_a = get_new_celebrity()\n",
        "celebrity_b = get_new_celebrity()\n",
        "if celebrity_a == celebrity_b:\n",
        "    celebrity_b = get_new_celebrity()\n",
        "\n",
        "game_on = True\n",
        "while game_on:\n",
        "    print(f\"Compare A: {format_celebrity(celebrity_a)}\")\n",
        "    print(vs)\n",
        "    print(f\"Compare B: {format_celebrity(celebrity_b)}\")\n",
        "\n",
        "    user_guess = input(\"Who has more followers. Type 'A' or 'B': \").upper()\n",
        "\n",
        "    game_on = check_answer(user_guess, celebrity_a, celebrity_b)\n",
        "\n",
        "    if game_on:\n",
        "        # Set the current celebrity B to A, and get a new celebrity for B\n",
        "        celebrity_a = celebrity_b\n",
        "        celebrity_b = get_new_celebrity()\n"
      ],
      "metadata": {
        "colab": {
          "base_uri": "https://localhost:8080/"
        },
        "id": "CDDR_ZNVFweV",
        "outputId": "08ae267e-d83d-46ba-90c9-54ac9fb8e600"
      },
      "execution_count": 10,
      "outputs": [
        {
          "output_type": "stream",
          "name": "stdout",
          "text": [
            "\n",
            "    __  ___       __             \n",
            "   / / / (_)___ _/ /_  ___  _____\n",
            "  / /_/ / / __ `/ __ \\/ _ \\/ ___/\n",
            " / __  / / /_/ / / / /  __/ /    \n",
            "/_/ ///_/\\__, /_/ /_/\\___/_/     \n",
            "   / /  /____/_      _____  _____\n",
            "  / /   / __ \\ | /| / / _ \\/ ___/\n",
            " / /___/ /_/ / |/ |/ /  __/ /    \n",
            "/_____/\\____/|__/|__/\\___/_/     \n",
            "\n",
            "Compare A: Kylie Jenner, a Reality TV personality and businesswoman and Self-Made Billionaire from United States.\n",
            "\n",
            " _    __    \n",
            "| |  / /____\n",
            "| | / / ___/\n",
            "| |/ (__  ) \n",
            "|___/____(_)\n",
            "\n",
            "Compare B: NASA, a Space agency from United States.\n",
            "Who has more followers. Type 'A' or 'B': a\n",
            "You are correct, you score is: 0.\n",
            "Compare A: NASA, a Space agency from United States.\n",
            "\n",
            " _    __    \n",
            "| |  / /____\n",
            "| | / / ___/\n",
            "| |/ (__  ) \n",
            "|___/____(_)\n",
            "\n",
            "Compare B: UEFA Champions League, a Club football competition from Europe.\n",
            "Who has more followers. Type 'A' or 'B': a\n",
            "You are wrong. Your score is: 1\n"
          ]
        }
      ]
    }
  ]
}